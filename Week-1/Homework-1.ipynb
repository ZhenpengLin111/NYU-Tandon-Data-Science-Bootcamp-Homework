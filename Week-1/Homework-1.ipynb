{
  "cells": [
    {
      "cell_type": "code",
      "execution_count": null,
      "id": "1c452d6e-85e9-4bc0-8b91-5df6e3816087",
      "metadata": {
        "trusted": true
      },
      "outputs": [
        {
          "name": "stdout",
          "output_type": "stream",
          "text": [
            "The number of vowels in the word is: 3\n"
          ]
        }
      ],
      "source": [
        "# 1. Write a program that takes a word as an input and print the number of vowels in the word.\n",
        "def print_num_vowels_in_word(word):\n",
        "    vowels = \"aeiou\"\n",
        "    count = 0\n",
        "    lower_case_word = word.lower()\n",
        "    for a in lower_case_word:\n",
        "        if a in vowels:\n",
        "           count+=1\n",
        "\n",
        "    print(\"The number of vowels in the word is: \" + str(count))\n",
        "\n",
        "# Test    \n",
        "print_num_vowels_in_word(\"Hello World!\")"
      ]
    },
    {
      "cell_type": "code",
      "execution_count": null,
      "id": "1ebf6320-07c6-4a04-910b-0539789ebb1a",
      "metadata": {
        "trusted": true
      },
      "outputs": [
        {
          "name": "stdout",
          "output_type": "stream",
          "text": [
            "TIGER\n",
            "ELEPHANT\n",
            "MONKEY\n",
            "ZEBRA\n",
            "PANTHER\n"
          ]
        }
      ],
      "source": [
        "# 2. Iterate through the following list of animals and print each one in all caps.\n",
        "    \n",
        "animals=['tiger', 'elephant', 'monkey', 'zebra', 'panther']\n",
        "def print_cap_animals(animals):\n",
        "    for animal in animals:\n",
        "        cap_animal = animal.upper()\n",
        "        print(cap_animal)\n",
        "\n",
        "# Test\n",
        "print_cap_animals(animals)"
      ]
    },
    {
      "cell_type": "code",
      "execution_count": null,
      "id": "f232f58f-041f-4322-bdaa-12a6e26441db",
      "metadata": {
        "trusted": true
      },
      "outputs": [
        {
          "name": "stdout",
          "output_type": "stream",
          "text": [
            "Number 1 is odd.\n",
            "Number 2 is even.\n",
            "Number 3 is odd.\n",
            "Number 4 is even.\n",
            "Number 5 is odd.\n",
            "Number 6 is even.\n",
            "Number 7 is odd.\n",
            "Number 8 is even.\n",
            "Number 9 is odd.\n",
            "Number 10 is even.\n",
            "Number 11 is odd.\n",
            "Number 12 is even.\n",
            "Number 13 is odd.\n",
            "Number 14 is even.\n",
            "Number 15 is odd.\n",
            "Number 16 is even.\n",
            "Number 17 is odd.\n",
            "Number 18 is even.\n",
            "Number 19 is odd.\n",
            "Number 20 is even.\n"
          ]
        }
      ],
      "source": [
        "# 3. Write a program that iterates from 1 to 20, printing each number and whether it's odd or even.\n",
        "def odd_or_even():\n",
        "    for i in range(1,21):\n",
        "        if i % 2 == 0:\n",
        "            print(\"Number \" + str(i) + \" is even.\")\n",
        "        else:\n",
        "            print(\"Number \" + str(i) + \" is odd.\")\n",
        "\n",
        "# Test\n",
        "odd_or_even()"
      ]
    },
    {
      "cell_type": "code",
      "execution_count": null,
      "id": "a33376b5-8439-430b-ab84-9cec017ebde1",
      "metadata": {
        "trusted": true
      },
      "outputs": [
        {
          "name": "stdout",
          "output_type": "stream",
          "text": [
            "This is a palindrome.\n",
            "This is not a palindrome.\n"
          ]
        }
      ],
      "source": [
        "# 4. Write a program to check if a string is a palindrome or not.\n",
        "def is_palindrome(s):\n",
        "    l, r = 0, len(s)-1\n",
        "    while l < r:\n",
        "        if s[l] == s[r]:\n",
        "            l+=1\n",
        "            r-=1\n",
        "        else:\n",
        "            print(\"This is not a palindrome.\")\n",
        "            return\n",
        "\n",
        "    print(\"This is a palindrome.\")\n",
        "\n",
        "# Test\n",
        "is_palindrome(\"abaaba\") # A palindrome\n",
        "is_palindrome(\"hello\") # Not a palindrome"
      ]
    },
    {
      "cell_type": "code",
      "execution_count": null,
      "id": "ac35bdf0-ef3c-42f5-b50d-8a7882b920d1",
      "metadata": {
        "trusted": true
      },
      "outputs": [
        {
          "data": {
            "text/plain": [
              "27"
            ]
          },
          "execution_count": 21,
          "metadata": {},
          "output_type": "execute_result"
        }
      ],
      "source": [
        "# 5. Write a function sum_of_integers(a, b) that takes two integers as input from the user and returns their sum.\n",
        "def sum_of_integers(a, b):\n",
        "    return a + b\n",
        "\n",
        "# Test\n",
        "sum_of_integers(3, 24)"
      ]
    },
    {
      "cell_type": "code",
      "execution_count": null,
      "id": "64082d47-2ab2-4de9-997a-a9670d95dcf4",
      "metadata": {
        "trusted": true
      },
      "outputs": [],
      "source": []
    }
  ],
  "metadata": {
    "kernelspec": {
      "display_name": "Python 3.13 (XPython)",
      "language": "python",
      "name": "xpython"
    },
    "language_info": {
      "file_extension": ".py",
      "mimetype": "text/x-python",
      "name": "python",
      "version": "3.13.1"
    }
  },
  "nbformat": 4,
  "nbformat_minor": 5
}
